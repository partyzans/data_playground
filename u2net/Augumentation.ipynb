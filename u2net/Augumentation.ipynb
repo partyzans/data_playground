{
 "cells": [
  {
   "cell_type": "code",
   "execution_count": 1,
   "metadata": {},
   "outputs": [],
   "source": [
    "%load_ext blackcellmagic"
   ]
  },
  {
   "cell_type": "code",
   "execution_count": 2,
   "metadata": {},
   "outputs": [],
   "source": [
    "import Augmentor\n",
    "import pandas as pd\n",
    "import pathlib\n",
    "from PIL import Image"
   ]
  },
  {
   "cell_type": "code",
   "execution_count": 3,
   "metadata": {},
   "outputs": [],
   "source": [
    "data_path = \"./data/train_size_1024_768\""
   ]
  },
  {
   "cell_type": "code",
   "execution_count": 4,
   "metadata": {},
   "outputs": [],
   "source": [
    "images_folder = (pathlib.Path(data_path).resolve() / \"images\")\n",
    "labels_folder = (pathlib.Path(data_path).resolve() / \"labels\")"
   ]
  },
  {
   "cell_type": "code",
   "execution_count": 5,
   "metadata": {},
   "outputs": [
    {
     "name": "stderr",
     "output_type": "stream",
     "text": [
      "                                                        "
     ]
    },
    {
     "name": "stdout",
     "output_type": "stream",
     "text": [
      "Initialised with 245 image(s) found.\n",
      "Output directory set to /mnt/disks/lasercache/hackaton/data_playground/u2net/data/train_size_1024_768/images/output.245 ground truth image(s) found.\n"
     ]
    },
    {
     "name": "stderr",
     "output_type": "stream",
     "text": [
      "\r"
     ]
    }
   ],
   "source": [
    "p = Augmentor.Pipeline(images_folder)\n",
    "p.ground_truth(labels_folder)\n",
    "p.set_save_format(\"png\")"
   ]
  },
  {
   "cell_type": "code",
   "execution_count": 7,
   "metadata": {},
   "outputs": [],
   "source": [
    "p.zoom_random(0.1, percentage_area=0.75)\n",
    "p.zoom_random(0.1, percentage_area=0.5)\n",
    "p.zoom_random(0.1, percentage_area=0.25)\n",
    "p.rotate(probability=0.3, max_left_rotation=25, max_right_rotation=25)\n",
    "p.skew(probability=0.05)\n",
    "p.random_distortion(probability=0.3, grid_width=4, grid_height=4, magnitude=8)\n",
    "p.rotate_random_90(probability=0.3)\n",
    "p.shear(probability=0.05, max_shear_left=25, max_shear_right=25)\n",
    "p.flip_random(probability=0.3)"
   ]
  },
  {
   "cell_type": "code",
   "execution_count": 8,
   "metadata": {},
   "outputs": [
    {
     "name": "stderr",
     "output_type": "stream",
     "text": [
      "Processing <PIL.Image.Image image mode=RGB size=768x1024 at 0x7FA3669971D0>: 100%|██████████| 2000/2000 [08:52<00:00,  3.76 Samples/s]                \n"
     ]
    }
   ],
   "source": [
    "p.sample(2000)"
   ]
  },
  {
   "cell_type": "code",
   "execution_count": null,
   "metadata": {},
   "outputs": [],
   "source": []
  }
 ],
 "metadata": {
  "kernelspec": {
   "display_name": "Python 3",
   "language": "python",
   "name": "python3"
  },
  "language_info": {
   "codemirror_mode": {
    "name": "ipython",
    "version": 3
   },
   "file_extension": ".py",
   "mimetype": "text/x-python",
   "name": "python",
   "nbconvert_exporter": "python",
   "pygments_lexer": "ipython3",
   "version": "3.6.5"
  }
 },
 "nbformat": 4,
 "nbformat_minor": 2
}
