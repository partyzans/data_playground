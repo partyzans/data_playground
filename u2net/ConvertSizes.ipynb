{
 "cells": [
  {
   "cell_type": "code",
   "execution_count": 16,
   "metadata": {},
   "outputs": [],
   "source": [
    "import pathlib\n",
    "from PIL import Image\n",
    "from tqdm import tqdm_notebook as tqdm\n",
    "data_path = \"./data/train\"\n",
    "out_path = \"./data/train_size_1024_768\"\n",
    "out_size = (1024, 768)"
   ]
  },
  {
   "cell_type": "code",
   "execution_count": 15,
   "metadata": {},
   "outputs": [],
   "source": [
    "all_filenames = [x.name for x in pathlib.Path(data_path).resolve().iterdir()]\n",
    "inputs = [path for path in all_filenames if \"gt\" not in path.lower()]\n",
    "all_pairs = []\n",
    "for input_path in inputs:\n",
    "    labels = [\n",
    "        path\n",
    "        for path in all_filenames\n",
    "        if \"gt\" in path.lower() and path.startswith(str(pathlib.Path(input_path).with_suffix(\"\")))\n",
    "    ]\n",
    "    if labels:\n",
    "        all_pairs.append((data_path + \"/\" + input_path, data_path + \"/\" + labels[0]))"
   ]
  },
  {
   "cell_type": "code",
   "execution_count": 11,
   "metadata": {},
   "outputs": [],
   "source": [
    "out_folder = pathlib.Path(out_path).resolve()\n",
    "out_folder.mkdir(exist_ok=True)\n",
    "images_folder = out_folder / \"images\"\n",
    "labels_folder = out_folder / \"labels\"\n",
    "images_folder.mkdir(exist_ok=True)\n",
    "labels_folder.mkdir(exist_ok=True)"
   ]
  },
  {
   "cell_type": "code",
   "execution_count": null,
   "metadata": {},
   "outputs": [
    {
     "data": {
      "application/vnd.jupyter.widget-view+json": {
       "model_id": "dfc44c0340f04b548725ebddebc47367",
       "version_major": 2,
       "version_minor": 0
      },
      "text/plain": [
       "HBox(children=(IntProgress(value=0, max=245), HTML(value='')))"
      ]
     },
     "metadata": {},
     "output_type": "display_data"
    }
   ],
   "source": [
    "for idx, paths in enumerate(tqdm(all_pairs)):\n",
    "    input_image = Image.open(paths[0]).resize(out_size, Image.LANCZOS)\n",
    "    label_image = Image.open(paths[1]).resize(out_size, Image.NEAREST)\n",
    "    input_image.save(images_folder / f\"{idx}.png\")\n",
    "    label_image.save(labels_folder / f\"{idx}.png\")"
   ]
  }
 ],
 "metadata": {
  "kernelspec": {
   "display_name": "Python 3",
   "language": "python",
   "name": "python3"
  },
  "language_info": {
   "codemirror_mode": {
    "name": "ipython",
    "version": 3
   },
   "file_extension": ".py",
   "mimetype": "text/x-python",
   "name": "python",
   "nbconvert_exporter": "python",
   "pygments_lexer": "ipython3",
   "version": "3.6.5"
  }
 },
 "nbformat": 4,
 "nbformat_minor": 2
}
